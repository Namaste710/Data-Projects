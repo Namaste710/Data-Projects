{
 "cells": [
  {
   "cell_type": "code",
   "execution_count": 1,
   "metadata": {},
   "outputs": [
    {
     "data": {
      "text/plain": [
       "'{\"y_pred\":[33.54333333333334,17.64333333333333,21.293333333333333]}'"
      ]
     },
     "execution_count": 1,
     "metadata": {},
     "output_type": "execute_result"
    }
   ],
   "source": [
    "import requests\n",
    "\n",
    "vehicle_data = {\n",
    "    'Cylinders': [4, 6, 8],\n",
    "    'Displacement': [155.0, 160.0, 165.5],\n",
    "    'Horsepower': [93.0, 130.0, 98.0],\n",
    "    'Weight': [2500.0, 3150.0, 2600.0],\n",
    "    'Acceleration': [15.0, 14.0, 16.0],\n",
    "    'Model Year': [81, 80, 78],\n",
    "    'Origin': [3, 2, 1]\n",
    "}\n",
    "\n",
    "url = 'https://fuel-usage-prediction.herokuapp.com/predict'\n",
    "r = requests.post(url, json = vehicle_data)\n",
    "\n",
    "r.text.strip()"
   ]
  },
  {
   "cell_type": "code",
   "execution_count": 9,
   "metadata": {},
   "outputs": [],
   "source": [
    "import pandas as pd\n",
    "\n",
    "from sklearn.preprocessing import OneHotEncoder\n",
    "from sklearn.impute import SimpleImputer\n",
    "\n",
    "from sklearn.pipeline import Pipeline\n",
    "from sklearn.preprocessing import StandardScaler\n",
    "from sklearn.compose import ColumnTransformer\n",
    "\n",
    "# Tansforms the numerical values in the Origin column to Strings\n",
    "def map_origin_col(input_df: pd.DataFrame) -> pd.DataFrame:\n",
    "    \"\"\"_summary_\n",
    "\n",
    "    Args:\n",
    "        input_df (pd.DataFrame): _description_\n",
    "\n",
    "    Returns:\n",
    "        pd.DataFrame: _description_\n",
    "    \"\"\"    \n",
    "    \n",
    "    mapped_df = input_df.copy()\n",
    "    mapped_df[\"Origin\"] = mapped_df[\"Origin\"].map({1: \"India\", 2: \"USA\", 3: \"Germany\"})\n",
    "    return mapped_df\n",
    "\n",
    "\n",
    "def num_preproc_pipeline() -> Pipeline:\n",
    "    \"\"\"_summary_\n",
    "\n",
    "    Returns:\n",
    "        Pipeline: _description_\n",
    "    \"\"\"    \n",
    "    \n",
    "    imputer = SimpleImputer(strategy=\"median\")\n",
    "    scaler = StandardScaler()\n",
    "    \n",
    "    num_pipeline = Pipeline([(\"imputer\", imputer), \n",
    "                             (\"scaler\", scaler)], \n",
    "                            verbose=True)\n",
    "    \n",
    "    return num_pipeline\n",
    "\n",
    "def cat_preproc_pipeline() -> Pipeline:\n",
    "    \"\"\"_summary_\n",
    "\n",
    "    Returns:\n",
    "        Pipeline: _description_\n",
    "    \"\"\"            \n",
    "    ohe = OneHotEncoder()\n",
    "    \n",
    "    cat_pipeline = Pipeline([(\"one_hot_encoder\", ohe)], \n",
    "                            verbose=True)\n",
    "    \n",
    "    return cat_pipeline\n",
    "\n",
    "def full_preproc_ct(X_input: pd.DataFrame) -> tuple[pd.DataFrame, ColumnTransformer]:\n",
    "    \"\"\"_summary_\n",
    "\n",
    "    Args:\n",
    "        X_input (pd.DataFrame): _description_\n",
    "\n",
    "    Returns:\n",
    "        tuple[pd.DataFrame, ColumnTransformer]: _description_\n",
    "    \"\"\"\n",
    "    \n",
    "    num_pipeline = num_preproc_pipeline()\n",
    "    cat_pipeline = cat_preproc_pipeline()\n",
    "    \n",
    "    num_attributes = X_input.select_dtypes(include=[\"float\", \"int64\"]).columns\n",
    "    cat_attributes = X_input.select_dtypes(include=[\"object\"]).columns\n",
    "    print(cat_attributes)\n",
    "    full_pipeline = ColumnTransformer(\n",
    "        [(\"cat\", cat_pipeline, cat_attributes), \n",
    "         (\"num\", num_pipeline, num_attributes)],\n",
    "        verbose=True,\n",
    "    )\n",
    "\n",
    "    preprocessed_data = full_pipeline.fit_transform(X_input)\n",
    "\n",
    "    return preprocessed_data, full_pipeline\n"
   ]
  },
  {
   "cell_type": "code",
   "execution_count": 3,
   "metadata": {},
   "outputs": [
    {
     "data": {
      "text/html": [
       "<div>\n",
       "<style scoped>\n",
       "    .dataframe tbody tr th:only-of-type {\n",
       "        vertical-align: middle;\n",
       "    }\n",
       "\n",
       "    .dataframe tbody tr th {\n",
       "        vertical-align: top;\n",
       "    }\n",
       "\n",
       "    .dataframe thead th {\n",
       "        text-align: right;\n",
       "    }\n",
       "</style>\n",
       "<table border=\"1\" class=\"dataframe\">\n",
       "  <thead>\n",
       "    <tr style=\"text-align: right;\">\n",
       "      <th></th>\n",
       "      <th>cylinders</th>\n",
       "      <th>displacement</th>\n",
       "      <th>horsepower</th>\n",
       "      <th>weight</th>\n",
       "      <th>acceleration</th>\n",
       "      <th>model_year</th>\n",
       "      <th>Origin</th>\n",
       "    </tr>\n",
       "  </thead>\n",
       "  <tbody>\n",
       "    <tr>\n",
       "      <th>0</th>\n",
       "      <td>4</td>\n",
       "      <td>155.0</td>\n",
       "      <td>93.0</td>\n",
       "      <td>2500.0</td>\n",
       "      <td>15.0</td>\n",
       "      <td>81</td>\n",
       "      <td>1</td>\n",
       "    </tr>\n",
       "  </tbody>\n",
       "</table>\n",
       "</div>"
      ],
      "text/plain": [
       "   cylinders  displacement  horsepower  weight  acceleration  model_year  \\\n",
       "0          4         155.0        93.0  2500.0          15.0          81   \n",
       "\n",
       "   Origin  \n",
       "0       1  "
      ]
     },
     "execution_count": 3,
     "metadata": {},
     "output_type": "execute_result"
    }
   ],
   "source": [
    "input_data = {\n",
    "  \"cylinders\": 4,\n",
    "  \"displacement\": 155.0,\n",
    "  \"horsepower\": 93.0,\n",
    "  \"weight\": 2500.0,\n",
    "  \"acceleration\": 15.0,\n",
    "  \"model_year\": 81,\n",
    "  \"Origin\": 1\n",
    "}\n",
    "\n",
    "df = pd.DataFrame([input_data])\n",
    "df.head()"
   ]
  },
  {
   "cell_type": "code",
   "execution_count": 10,
   "metadata": {},
   "outputs": [
    {
     "name": "stdout",
     "output_type": "stream",
     "text": [
      "Index(['cylinders', 'displacement', 'horsepower', 'weight', 'acceleration',\n",
      "       'model_year', 'Origin'],\n",
      "      dtype='object') Index([], dtype='object')\n",
      "[Pipeline] ........... (step 1 of 2) Processing imputer, total=   0.0s\n",
      "[Pipeline] ............ (step 2 of 2) Processing scaler, total=   0.0s\n",
      "[ColumnTransformer] ........... (1 of 1) Processing num, total=   0.0s\n"
     ]
    }
   ],
   "source": [
    "test = full_preproc_ct(df)"
   ]
  },
  {
   "cell_type": "code",
   "execution_count": 5,
   "metadata": {},
   "outputs": [
    {
     "data": {
      "text/plain": [
       "(array([[0., 0., 0., 0., 0., 0., 0.]]),\n",
       " ColumnTransformer(transformers=[('cat',\n",
       "                                  Pipeline(steps=[('one_hot_encoder',\n",
       "                                                   OneHotEncoder())],\n",
       "                                           verbose=True),\n",
       "                                  Index([], dtype='object')),\n",
       "                                 ('num',\n",
       "                                  Pipeline(steps=[('imputer',\n",
       "                                                   SimpleImputer(strategy='median')),\n",
       "                                                  ('scaler', StandardScaler())],\n",
       "                                           verbose=True),\n",
       "                                  Index(['cylinders', 'displacement', 'horsepower', 'weight', 'acceleration',\n",
       "        'model_year', 'Origin'],\n",
       "       dtype='object'))],\n",
       "                   verbose=True))"
      ]
     },
     "execution_count": 5,
     "metadata": {},
     "output_type": "execute_result"
    }
   ],
   "source": [
    "test"
   ]
  },
  {
   "cell_type": "code",
   "execution_count": null,
   "metadata": {},
   "outputs": [],
   "source": []
  }
 ],
 "metadata": {
  "kernelspec": {
   "display_name": "Python 3.9.7 ('mlflow_test')",
   "language": "python",
   "name": "python3"
  },
  "language_info": {
   "codemirror_mode": {
    "name": "ipython",
    "version": 3
   },
   "file_extension": ".py",
   "mimetype": "text/x-python",
   "name": "python",
   "nbconvert_exporter": "python",
   "pygments_lexer": "ipython3",
   "version": "3.9.7"
  },
  "orig_nbformat": 2,
  "vscode": {
   "interpreter": {
    "hash": "19a91482ee4d38e3a9ae386a52bde6b79fc45b701cc986d0486eb22f2036905a"
   }
  }
 },
 "nbformat": 4,
 "nbformat_minor": 2
}
