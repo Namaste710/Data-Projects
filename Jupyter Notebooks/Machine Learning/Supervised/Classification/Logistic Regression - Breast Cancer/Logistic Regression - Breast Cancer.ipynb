{
 "cells": [
  {
   "cell_type": "markdown",
   "metadata": {},
   "source": [
    "# Logistic Regression - Breast Cancer\n",
    "### Dataset found under https://archive.ics.uci.edu/ml/datasets/breast+cancer+wisconsin+%28original%29"
   ]
  },
  {
   "cell_type": "markdown",
   "metadata": {},
   "source": [
    "## Libraries"
   ]
  },
  {
   "cell_type": "code",
   "execution_count": 2,
   "metadata": {},
   "outputs": [],
   "source": [
    "import pandas as pd\n",
    "from sklearn.model_selection import train_test_split, cross_val_score\n",
    "from sklearn.linear_model import LogisticRegression\n",
    "from sklearn.metrics import accuracy_score, confusion_matrix, f1_score, recall_score, precision_score, precision_recall_curve"
   ]
  },
  {
   "cell_type": "markdown",
   "metadata": {},
   "source": [
    "## Dataset"
   ]
  },
  {
   "cell_type": "code",
   "execution_count": 3,
   "metadata": {},
   "outputs": [],
   "source": [
    "df = pd.read_csv('breast_cancer.csv')"
   ]
  },
  {
   "cell_type": "markdown",
   "metadata": {},
   "source": [
    "## Checking data quality"
   ]
  },
  {
   "cell_type": "code",
   "execution_count": 4,
   "metadata": {
    "tags": []
   },
   "outputs": [
    {
     "output_type": "stream",
     "name": "stdout",
     "text": "<class 'pandas.core.frame.DataFrame'>\nRangeIndex: 683 entries, 0 to 682\nData columns (total 11 columns):\n #   Column                       Non-Null Count  Dtype\n---  ------                       --------------  -----\n 0   Sample code number           683 non-null    int64\n 1   Clump Thickness              683 non-null    int64\n 2   Uniformity of Cell Size      683 non-null    int64\n 3   Uniformity of Cell Shape     683 non-null    int64\n 4   Marginal Adhesion            683 non-null    int64\n 5   Single Epithelial Cell Size  683 non-null    int64\n 6   Bare Nuclei                  683 non-null    int64\n 7   Bland Chromatin              683 non-null    int64\n 8   Normal Nucleoli              683 non-null    int64\n 9   Mitoses                      683 non-null    int64\n 10  Class                        683 non-null    int64\ndtypes: int64(11)\nmemory usage: 58.8 KB\n"
    }
   ],
   "source": [
    "df.info()"
   ]
  },
  {
   "cell_type": "code",
   "execution_count": 5,
   "metadata": {},
   "outputs": [
    {
     "output_type": "execute_result",
     "data": {
      "text/plain": "   Sample code number  Clump Thickness  Uniformity of Cell Size  \\\n0             1000025                5                        1   \n1             1002945                5                        4   \n2             1015425                3                        1   \n3             1016277                6                        8   \n4             1017023                4                        1   \n\n   Uniformity of Cell Shape  Marginal Adhesion  Single Epithelial Cell Size  \\\n0                         1                  1                            2   \n1                         4                  5                            7   \n2                         1                  1                            2   \n3                         8                  1                            3   \n4                         1                  3                            2   \n\n   Bare Nuclei  Bland Chromatin  Normal Nucleoli  Mitoses  Class  \n0            1                3                1        1      2  \n1           10                3                2        1      2  \n2            2                3                1        1      2  \n3            4                3                7        1      2  \n4            1                3                1        1      2  ",
      "text/html": "<div>\n<style scoped>\n    .dataframe tbody tr th:only-of-type {\n        vertical-align: middle;\n    }\n\n    .dataframe tbody tr th {\n        vertical-align: top;\n    }\n\n    .dataframe thead th {\n        text-align: right;\n    }\n</style>\n<table border=\"1\" class=\"dataframe\">\n  <thead>\n    <tr style=\"text-align: right;\">\n      <th></th>\n      <th>Sample code number</th>\n      <th>Clump Thickness</th>\n      <th>Uniformity of Cell Size</th>\n      <th>Uniformity of Cell Shape</th>\n      <th>Marginal Adhesion</th>\n      <th>Single Epithelial Cell Size</th>\n      <th>Bare Nuclei</th>\n      <th>Bland Chromatin</th>\n      <th>Normal Nucleoli</th>\n      <th>Mitoses</th>\n      <th>Class</th>\n    </tr>\n  </thead>\n  <tbody>\n    <tr>\n      <th>0</th>\n      <td>1000025</td>\n      <td>5</td>\n      <td>1</td>\n      <td>1</td>\n      <td>1</td>\n      <td>2</td>\n      <td>1</td>\n      <td>3</td>\n      <td>1</td>\n      <td>1</td>\n      <td>2</td>\n    </tr>\n    <tr>\n      <th>1</th>\n      <td>1002945</td>\n      <td>5</td>\n      <td>4</td>\n      <td>4</td>\n      <td>5</td>\n      <td>7</td>\n      <td>10</td>\n      <td>3</td>\n      <td>2</td>\n      <td>1</td>\n      <td>2</td>\n    </tr>\n    <tr>\n      <th>2</th>\n      <td>1015425</td>\n      <td>3</td>\n      <td>1</td>\n      <td>1</td>\n      <td>1</td>\n      <td>2</td>\n      <td>2</td>\n      <td>3</td>\n      <td>1</td>\n      <td>1</td>\n      <td>2</td>\n    </tr>\n    <tr>\n      <th>3</th>\n      <td>1016277</td>\n      <td>6</td>\n      <td>8</td>\n      <td>8</td>\n      <td>1</td>\n      <td>3</td>\n      <td>4</td>\n      <td>3</td>\n      <td>7</td>\n      <td>1</td>\n      <td>2</td>\n    </tr>\n    <tr>\n      <th>4</th>\n      <td>1017023</td>\n      <td>4</td>\n      <td>1</td>\n      <td>1</td>\n      <td>3</td>\n      <td>2</td>\n      <td>1</td>\n      <td>3</td>\n      <td>1</td>\n      <td>1</td>\n      <td>2</td>\n    </tr>\n  </tbody>\n</table>\n</div>"
     },
     "metadata": {},
     "execution_count": 5
    }
   ],
   "source": [
    "df.head()"
   ]
  },
  {
   "cell_type": "code",
   "execution_count": 6,
   "metadata": {},
   "outputs": [
    {
     "output_type": "execute_result",
     "data": {
      "text/plain": "       Sample code number  Clump Thickness  Uniformity of Cell Size  \\\ncount        6.830000e+02       683.000000               683.000000   \nmean         1.076720e+06         4.442167                 3.150805   \nstd          6.206440e+05         2.820761                 3.065145   \nmin          6.337500e+04         1.000000                 1.000000   \n25%          8.776170e+05         2.000000                 1.000000   \n50%          1.171795e+06         4.000000                 1.000000   \n75%          1.238705e+06         6.000000                 5.000000   \nmax          1.345435e+07        10.000000                10.000000   \n\n       Uniformity of Cell Shape  Marginal Adhesion  \\\ncount                683.000000         683.000000   \nmean                   3.215227           2.830161   \nstd                    2.988581           2.864562   \nmin                    1.000000           1.000000   \n25%                    1.000000           1.000000   \n50%                    1.000000           1.000000   \n75%                    5.000000           4.000000   \nmax                   10.000000          10.000000   \n\n       Single Epithelial Cell Size  Bare Nuclei  Bland Chromatin  \\\ncount                   683.000000   683.000000       683.000000   \nmean                      3.234261     3.544656         3.445095   \nstd                       2.223085     3.643857         2.449697   \nmin                       1.000000     1.000000         1.000000   \n25%                       2.000000     1.000000         2.000000   \n50%                       2.000000     1.000000         3.000000   \n75%                       4.000000     6.000000         5.000000   \nmax                      10.000000    10.000000        10.000000   \n\n       Normal Nucleoli     Mitoses       Class  \ncount       683.000000  683.000000  683.000000  \nmean          2.869693    1.603221    2.699854  \nstd           3.052666    1.732674    0.954592  \nmin           1.000000    1.000000    2.000000  \n25%           1.000000    1.000000    2.000000  \n50%           1.000000    1.000000    2.000000  \n75%           4.000000    1.000000    4.000000  \nmax          10.000000   10.000000    4.000000  ",
      "text/html": "<div>\n<style scoped>\n    .dataframe tbody tr th:only-of-type {\n        vertical-align: middle;\n    }\n\n    .dataframe tbody tr th {\n        vertical-align: top;\n    }\n\n    .dataframe thead th {\n        text-align: right;\n    }\n</style>\n<table border=\"1\" class=\"dataframe\">\n  <thead>\n    <tr style=\"text-align: right;\">\n      <th></th>\n      <th>Sample code number</th>\n      <th>Clump Thickness</th>\n      <th>Uniformity of Cell Size</th>\n      <th>Uniformity of Cell Shape</th>\n      <th>Marginal Adhesion</th>\n      <th>Single Epithelial Cell Size</th>\n      <th>Bare Nuclei</th>\n      <th>Bland Chromatin</th>\n      <th>Normal Nucleoli</th>\n      <th>Mitoses</th>\n      <th>Class</th>\n    </tr>\n  </thead>\n  <tbody>\n    <tr>\n      <th>count</th>\n      <td>6.830000e+02</td>\n      <td>683.000000</td>\n      <td>683.000000</td>\n      <td>683.000000</td>\n      <td>683.000000</td>\n      <td>683.000000</td>\n      <td>683.000000</td>\n      <td>683.000000</td>\n      <td>683.000000</td>\n      <td>683.000000</td>\n      <td>683.000000</td>\n    </tr>\n    <tr>\n      <th>mean</th>\n      <td>1.076720e+06</td>\n      <td>4.442167</td>\n      <td>3.150805</td>\n      <td>3.215227</td>\n      <td>2.830161</td>\n      <td>3.234261</td>\n      <td>3.544656</td>\n      <td>3.445095</td>\n      <td>2.869693</td>\n      <td>1.603221</td>\n      <td>2.699854</td>\n    </tr>\n    <tr>\n      <th>std</th>\n      <td>6.206440e+05</td>\n      <td>2.820761</td>\n      <td>3.065145</td>\n      <td>2.988581</td>\n      <td>2.864562</td>\n      <td>2.223085</td>\n      <td>3.643857</td>\n      <td>2.449697</td>\n      <td>3.052666</td>\n      <td>1.732674</td>\n      <td>0.954592</td>\n    </tr>\n    <tr>\n      <th>min</th>\n      <td>6.337500e+04</td>\n      <td>1.000000</td>\n      <td>1.000000</td>\n      <td>1.000000</td>\n      <td>1.000000</td>\n      <td>1.000000</td>\n      <td>1.000000</td>\n      <td>1.000000</td>\n      <td>1.000000</td>\n      <td>1.000000</td>\n      <td>2.000000</td>\n    </tr>\n    <tr>\n      <th>25%</th>\n      <td>8.776170e+05</td>\n      <td>2.000000</td>\n      <td>1.000000</td>\n      <td>1.000000</td>\n      <td>1.000000</td>\n      <td>2.000000</td>\n      <td>1.000000</td>\n      <td>2.000000</td>\n      <td>1.000000</td>\n      <td>1.000000</td>\n      <td>2.000000</td>\n    </tr>\n    <tr>\n      <th>50%</th>\n      <td>1.171795e+06</td>\n      <td>4.000000</td>\n      <td>1.000000</td>\n      <td>1.000000</td>\n      <td>1.000000</td>\n      <td>2.000000</td>\n      <td>1.000000</td>\n      <td>3.000000</td>\n      <td>1.000000</td>\n      <td>1.000000</td>\n      <td>2.000000</td>\n    </tr>\n    <tr>\n      <th>75%</th>\n      <td>1.238705e+06</td>\n      <td>6.000000</td>\n      <td>5.000000</td>\n      <td>5.000000</td>\n      <td>4.000000</td>\n      <td>4.000000</td>\n      <td>6.000000</td>\n      <td>5.000000</td>\n      <td>4.000000</td>\n      <td>1.000000</td>\n      <td>4.000000</td>\n    </tr>\n    <tr>\n      <th>max</th>\n      <td>1.345435e+07</td>\n      <td>10.000000</td>\n      <td>10.000000</td>\n      <td>10.000000</td>\n      <td>10.000000</td>\n      <td>10.000000</td>\n      <td>10.000000</td>\n      <td>10.000000</td>\n      <td>10.000000</td>\n      <td>10.000000</td>\n      <td>4.000000</td>\n    </tr>\n  </tbody>\n</table>\n</div>"
     },
     "metadata": {},
     "execution_count": 6
    }
   ],
   "source": [
    "df.describe()"
   ]
  },
  {
   "cell_type": "markdown",
   "metadata": {},
   "source": [
    "## Preparing data for logistic regression"
   ]
  },
  {
   "cell_type": "code",
   "execution_count": 7,
   "metadata": {},
   "outputs": [],
   "source": [
    "X = df.iloc[:, 1:-1]\n",
    "y = df.iloc[:, -1:]"
   ]
  },
  {
   "cell_type": "code",
   "execution_count": 8,
   "metadata": {},
   "outputs": [],
   "source": [
    "X_train, X_test, y_train, y_test = train_test_split(X, y, test_size=0.2, random_state=42)"
   ]
  },
  {
   "cell_type": "markdown",
   "metadata": {},
   "source": [
    "## Creating and using Classifier"
   ]
  },
  {
   "cell_type": "code",
   "execution_count": 9,
   "metadata": {},
   "outputs": [
    {
     "output_type": "execute_result",
     "data": {
      "text/plain": "LogisticRegression(C=1.0, class_weight=None, dual=False, fit_intercept=True,\n                   intercept_scaling=1, l1_ratio=None, max_iter=100,\n                   multi_class='auto', n_jobs=None, penalty='l2',\n                   random_state=None, solver='lbfgs', tol=0.0001, verbose=0,\n                   warm_start=False)"
     },
     "metadata": {},
     "execution_count": 9
    }
   ],
   "source": [
    "log_clf = LogisticRegression()\n",
    "log_clf.fit(X_train, y_train)\n",
    "y_pred = log_clf.predict(X_test)"
   ]
  },
  {
   "cell_type": "markdown",
   "metadata": {},
   "source": [
    "## Getting metrics"
   ]
  },
  {
   "cell_type": "code",
   "execution_count": 10,
   "metadata": {
    "tags": []
   },
   "outputs": [
    {
     "output_type": "stream",
     "name": "stdout",
     "text": "[[78  1]\n [ 5 53]]\n"
    }
   ],
   "source": [
    "conf_matrix = confusion_matrix(y_test, y_pred)\n",
    "print(conf_matrix)"
   ]
  },
  {
   "cell_type": "code",
   "execution_count": 11,
   "metadata": {
    "tags": []
   },
   "outputs": [
    {
     "output_type": "stream",
     "name": "stdout",
     "text": "Accuracy is 95.62 %\nPrecision is 93.98 %\nRecall is 98.73 %\nF1-Score is is 96.30 %\n"
    }
   ],
   "source": [
    "acc_score = accuracy_score(y_test, y_pred)\n",
    "prec = precision_score(y_test, y_pred, pos_label = 2)\n",
    "recall = recall_score(y_test, y_pred, pos_label = 2)\n",
    "f1 = f1_score(y_test, y_pred, pos_label= 2)\n",
    "print('Accuracy is {:.2f} %'.format(acc_score * 100))\n",
    "print('Precision is {:.2f} %'.format(prec * 100))\n",
    "print('Recall is {:.2f} %'.format(recall * 100))\n",
    "print('F1-Score is is {:.2f} %'.format(f1 * 100))"
   ]
  },
  {
   "cell_type": "markdown",
   "metadata": {},
   "source": [
    "## Using k-Fold Cross Validation for accuracy"
   ]
  },
  {
   "cell_type": "code",
   "execution_count": 12,
   "metadata": {
    "tags": []
   },
   "outputs": [
    {
     "output_type": "stream",
     "name": "stdout",
     "text": "Average accuracy is 96.71 %\nStandard deviation is 2.13 %\n"
    }
   ],
   "source": [
    "accuracies = cross_val_score(estimator = log_clf, X = X_train, y = y_train, cv = 10)\n",
    "print('Average accuracy is {:.2f} %'.format(accuracies.mean() * 100))\n",
    "print('Standard deviation is {:.2f} %'.format(accuracies.std() * 100))"
   ]
  },
  {
   "cell_type": "code",
   "execution_count": null,
   "metadata": {},
   "outputs": [],
   "source": []
  }
 ],
 "metadata": {
  "language_info": {
   "codemirror_mode": {
    "name": "ipython",
    "version": 3
   },
   "file_extension": ".py",
   "mimetype": "text/x-python",
   "name": "python",
   "nbconvert_exporter": "python",
   "pygments_lexer": "ipython3",
   "version": "3.7.7-final"
  },
  "orig_nbformat": 2,
  "kernelspec": {
   "name": "python3",
   "display_name": "Python 3"
  }
 },
 "nbformat": 4,
 "nbformat_minor": 2
}