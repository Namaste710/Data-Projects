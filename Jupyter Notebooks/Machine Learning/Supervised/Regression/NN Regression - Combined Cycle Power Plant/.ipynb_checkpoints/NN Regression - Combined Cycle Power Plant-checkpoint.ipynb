{
 "cells": [
  {
   "cell_type": "markdown",
   "metadata": {},
   "source": [
    "# NN Regression - Combined Cycle Power Plant\n",
    "### Dataset found under https://archive.ics.uci.edu/ml/datasets/Combined+Cycle+Power+Plant"
   ]
  },
  {
   "cell_type": "markdown",
   "metadata": {},
   "source": [
    "## Libraries"
   ]
  },
  {
   "cell_type": "code",
   "execution_count": 1,
   "metadata": {},
   "outputs": [],
   "source": [
    "import pandas as pd\n",
    "import numpy as np\n",
    "import tensorflow as tf\n",
    "from sklearn.model_selection import train_test_split"
   ]
  },
  {
   "cell_type": "code",
   "execution_count": 2,
   "metadata": {},
   "outputs": [
    {
     "output_type": "execute_result",
     "data": {
      "text/plain": "'2.1.0'"
     },
     "metadata": {},
     "execution_count": 2
    }
   ],
   "source": [
    "tf.__version__"
   ]
  },
  {
   "cell_type": "markdown",
   "metadata": {},
   "source": [
    "## Dataset"
   ]
  },
  {
   "cell_type": "code",
   "execution_count": 3,
   "metadata": {},
   "outputs": [],
   "source": [
    "df = pd.read_excel('Folds5x2_pp.xlsx')"
   ]
  },
  {
   "cell_type": "markdown",
   "metadata": {},
   "source": [
    "## Checking data quality"
   ]
  },
  {
   "cell_type": "code",
   "execution_count": 4,
   "metadata": {
    "tags": []
   },
   "outputs": [
    {
     "output_type": "stream",
     "name": "stdout",
     "text": "<class 'pandas.core.frame.DataFrame'>\nRangeIndex: 9568 entries, 0 to 9567\nData columns (total 5 columns):\n #   Column  Non-Null Count  Dtype  \n---  ------  --------------  -----  \n 0   AT      9568 non-null   float64\n 1   V       9568 non-null   float64\n 2   AP      9568 non-null   float64\n 3   RH      9568 non-null   float64\n 4   PE      9568 non-null   float64\ndtypes: float64(5)\nmemory usage: 373.9 KB\n"
    }
   ],
   "source": [
    "df.info()"
   ]
  },
  {
   "cell_type": "code",
   "execution_count": 5,
   "metadata": {},
   "outputs": [
    {
     "output_type": "execute_result",
     "data": {
      "text/plain": "      AT      V       AP     RH      PE\n0  14.96  41.76  1024.07  73.17  463.26\n1  25.18  62.96  1020.04  59.08  444.37\n2   5.11  39.40  1012.16  92.14  488.56\n3  20.86  57.32  1010.24  76.64  446.48\n4  10.82  37.50  1009.23  96.62  473.90",
      "text/html": "<div>\n<style scoped>\n    .dataframe tbody tr th:only-of-type {\n        vertical-align: middle;\n    }\n\n    .dataframe tbody tr th {\n        vertical-align: top;\n    }\n\n    .dataframe thead th {\n        text-align: right;\n    }\n</style>\n<table border=\"1\" class=\"dataframe\">\n  <thead>\n    <tr style=\"text-align: right;\">\n      <th></th>\n      <th>AT</th>\n      <th>V</th>\n      <th>AP</th>\n      <th>RH</th>\n      <th>PE</th>\n    </tr>\n  </thead>\n  <tbody>\n    <tr>\n      <th>0</th>\n      <td>14.96</td>\n      <td>41.76</td>\n      <td>1024.07</td>\n      <td>73.17</td>\n      <td>463.26</td>\n    </tr>\n    <tr>\n      <th>1</th>\n      <td>25.18</td>\n      <td>62.96</td>\n      <td>1020.04</td>\n      <td>59.08</td>\n      <td>444.37</td>\n    </tr>\n    <tr>\n      <th>2</th>\n      <td>5.11</td>\n      <td>39.40</td>\n      <td>1012.16</td>\n      <td>92.14</td>\n      <td>488.56</td>\n    </tr>\n    <tr>\n      <th>3</th>\n      <td>20.86</td>\n      <td>57.32</td>\n      <td>1010.24</td>\n      <td>76.64</td>\n      <td>446.48</td>\n    </tr>\n    <tr>\n      <th>4</th>\n      <td>10.82</td>\n      <td>37.50</td>\n      <td>1009.23</td>\n      <td>96.62</td>\n      <td>473.90</td>\n    </tr>\n  </tbody>\n</table>\n</div>"
     },
     "metadata": {},
     "execution_count": 5
    }
   ],
   "source": [
    "df.head()"
   ]
  },
  {
   "cell_type": "code",
   "execution_count": 6,
   "metadata": {},
   "outputs": [
    {
     "output_type": "execute_result",
     "data": {
      "text/plain": "                AT            V           AP           RH           PE\ncount  9568.000000  9568.000000  9568.000000  9568.000000  9568.000000\nmean     19.651231    54.305804  1013.259078    73.308978   454.365009\nstd       7.452473    12.707893     5.938784    14.600269    17.066995\nmin       1.810000    25.360000   992.890000    25.560000   420.260000\n25%      13.510000    41.740000  1009.100000    63.327500   439.750000\n50%      20.345000    52.080000  1012.940000    74.975000   451.550000\n75%      25.720000    66.540000  1017.260000    84.830000   468.430000\nmax      37.110000    81.560000  1033.300000   100.160000   495.760000",
      "text/html": "<div>\n<style scoped>\n    .dataframe tbody tr th:only-of-type {\n        vertical-align: middle;\n    }\n\n    .dataframe tbody tr th {\n        vertical-align: top;\n    }\n\n    .dataframe thead th {\n        text-align: right;\n    }\n</style>\n<table border=\"1\" class=\"dataframe\">\n  <thead>\n    <tr style=\"text-align: right;\">\n      <th></th>\n      <th>AT</th>\n      <th>V</th>\n      <th>AP</th>\n      <th>RH</th>\n      <th>PE</th>\n    </tr>\n  </thead>\n  <tbody>\n    <tr>\n      <th>count</th>\n      <td>9568.000000</td>\n      <td>9568.000000</td>\n      <td>9568.000000</td>\n      <td>9568.000000</td>\n      <td>9568.000000</td>\n    </tr>\n    <tr>\n      <th>mean</th>\n      <td>19.651231</td>\n      <td>54.305804</td>\n      <td>1013.259078</td>\n      <td>73.308978</td>\n      <td>454.365009</td>\n    </tr>\n    <tr>\n      <th>std</th>\n      <td>7.452473</td>\n      <td>12.707893</td>\n      <td>5.938784</td>\n      <td>14.600269</td>\n      <td>17.066995</td>\n    </tr>\n    <tr>\n      <th>min</th>\n      <td>1.810000</td>\n      <td>25.360000</td>\n      <td>992.890000</td>\n      <td>25.560000</td>\n      <td>420.260000</td>\n    </tr>\n    <tr>\n      <th>25%</th>\n      <td>13.510000</td>\n      <td>41.740000</td>\n      <td>1009.100000</td>\n      <td>63.327500</td>\n      <td>439.750000</td>\n    </tr>\n    <tr>\n      <th>50%</th>\n      <td>20.345000</td>\n      <td>52.080000</td>\n      <td>1012.940000</td>\n      <td>74.975000</td>\n      <td>451.550000</td>\n    </tr>\n    <tr>\n      <th>75%</th>\n      <td>25.720000</td>\n      <td>66.540000</td>\n      <td>1017.260000</td>\n      <td>84.830000</td>\n      <td>468.430000</td>\n    </tr>\n    <tr>\n      <th>max</th>\n      <td>37.110000</td>\n      <td>81.560000</td>\n      <td>1033.300000</td>\n      <td>100.160000</td>\n      <td>495.760000</td>\n    </tr>\n  </tbody>\n</table>\n</div>"
     },
     "metadata": {},
     "execution_count": 6
    }
   ],
   "source": [
    "df.describe()"
   ]
  },
  {
   "cell_type": "markdown",
   "metadata": {},
   "source": [
    "## Preparing data for the regression"
   ]
  },
  {
   "cell_type": "code",
   "execution_count": 7,
   "metadata": {},
   "outputs": [],
   "source": [
    "X = df.iloc[:, :-1].values\n",
    "y = df.iloc[:, -1:].values"
   ]
  },
  {
   "cell_type": "code",
   "execution_count": 8,
   "metadata": {},
   "outputs": [],
   "source": [
    "X_train, X_test, y_train, y_test = train_test_split(X, y, test_size=0.2, random_state=42)"
   ]
  },
  {
   "cell_type": "markdown",
   "metadata": {},
   "source": [
    "## Creating the Neural Network"
   ]
  },
  {
   "cell_type": "code",
   "execution_count": 9,
   "metadata": {},
   "outputs": [],
   "source": [
    "nn = tf.keras.models.Sequential()"
   ]
  },
  {
   "cell_type": "code",
   "execution_count": 10,
   "metadata": {},
   "outputs": [],
   "source": [
    "nn.add(tf.keras.layers.Dense(units=6, activation='relu'))"
   ]
  },
  {
   "cell_type": "code",
   "execution_count": 11,
   "metadata": {},
   "outputs": [],
   "source": [
    "nn.add(tf.keras.layers.Dense(units=6, activation='relu'))"
   ]
  },
  {
   "cell_type": "code",
   "execution_count": 12,
   "metadata": {},
   "outputs": [],
   "source": [
    "nn.add(tf.keras.layers.Dense(units=1))"
   ]
  },
  {
   "cell_type": "markdown",
   "metadata": {},
   "source": [
    "## Compile the Neural Network"
   ]
  },
  {
   "cell_type": "code",
   "execution_count": 13,
   "metadata": {},
   "outputs": [],
   "source": [
    "nn.compile(optimizer = 'adam', loss='mean_squared_error')"
   ]
  },
  {
   "cell_type": "markdown",
   "metadata": {},
   "source": [
    "## Train the Neural Network"
   ]
  },
  {
   "cell_type": "code",
   "execution_count": 14,
   "metadata": {
    "tags": []
   },
   "outputs": [
    {
     "output_type": "stream",
     "name": "stdout",
     "text": "Train on 7654 samples\nEpoch 1/100\n7654/7654 [==============================] - 0s 51us/sample - loss: 12768.5225\nEpoch 2/100\n7654/7654 [==============================] - 0s 19us/sample - loss: 385.9220\nEpoch 3/100\n7654/7654 [==============================] - 0s 18us/sample - loss: 364.5193\nEpoch 4/100\n7654/7654 [==============================] - 0s 18us/sample - loss: 338.8775\nEpoch 5/100\n7654/7654 [==============================] - 0s 18us/sample - loss: 310.0651\nEpoch 6/100\n7654/7654 [==============================] - 0s 18us/sample - loss: 277.8687\nEpoch 7/100\n7654/7654 [==============================] - 0s 18us/sample - loss: 241.5774\nEpoch 8/100\n7654/7654 [==============================] - 0s 18us/sample - loss: 202.1516\nEpoch 9/100\n7654/7654 [==============================] - 0s 18us/sample - loss: 159.7745\nEpoch 10/100\n7654/7654 [==============================] - 0s 18us/sample - loss: 116.0710\nEpoch 11/100\n7654/7654 [==============================] - 0s 18us/sample - loss: 77.7898\nEpoch 12/100\n7654/7654 [==============================] - 0s 18us/sample - loss: 51.6404\nEpoch 13/100\n7654/7654 [==============================] - 0s 17us/sample - loss: 37.6057\nEpoch 14/100\n7654/7654 [==============================] - 0s 17us/sample - loss: 32.3420\nEpoch 15/100\n7654/7654 [==============================] - 0s 18us/sample - loss: 29.9560\nEpoch 16/100\n7654/7654 [==============================] - 0s 18us/sample - loss: 28.8213\nEpoch 17/100\n7654/7654 [==============================] - 0s 18us/sample - loss: 28.2550\nEpoch 18/100\n7654/7654 [==============================] - 0s 18us/sample - loss: 28.2785\nEpoch 19/100\n7654/7654 [==============================] - 0s 18us/sample - loss: 27.7395\nEpoch 20/100\n7654/7654 [==============================] - 0s 18us/sample - loss: 27.5448\nEpoch 21/100\n7654/7654 [==============================] - 0s 19us/sample - loss: 27.9362\nEpoch 22/100\n7654/7654 [==============================] - 0s 18us/sample - loss: 27.3363\nEpoch 23/100\n7654/7654 [==============================] - 0s 18us/sample - loss: 27.0545\nEpoch 24/100\n7654/7654 [==============================] - 0s 18us/sample - loss: 26.7505\nEpoch 25/100\n7654/7654 [==============================] - 0s 19us/sample - loss: 27.1521\nEpoch 26/100\n7654/7654 [==============================] - 0s 18us/sample - loss: 26.9298\nEpoch 27/100\n7654/7654 [==============================] - 0s 17us/sample - loss: 26.6397\nEpoch 28/100\n7654/7654 [==============================] - 0s 17us/sample - loss: 25.9963\nEpoch 29/100\n7654/7654 [==============================] - 0s 18us/sample - loss: 26.8092\nEpoch 30/100\n7654/7654 [==============================] - 0s 18us/sample - loss: 26.6039\nEpoch 31/100\n7654/7654 [==============================] - 0s 19us/sample - loss: 26.8962\nEpoch 32/100\n7654/7654 [==============================] - 0s 18us/sample - loss: 26.2673\nEpoch 33/100\n7654/7654 [==============================] - 0s 18us/sample - loss: 26.9372\nEpoch 34/100\n7654/7654 [==============================] - 0s 19us/sample - loss: 26.1232\nEpoch 35/100\n7654/7654 [==============================] - 0s 20us/sample - loss: 26.0278\nEpoch 36/100\n7654/7654 [==============================] - 0s 19us/sample - loss: 25.5843\nEpoch 37/100\n7654/7654 [==============================] - 0s 19us/sample - loss: 25.7415\nEpoch 38/100\n7654/7654 [==============================] - 0s 19us/sample - loss: 26.2055\nEpoch 39/100\n7654/7654 [==============================] - 0s 19us/sample - loss: 25.8889\nEpoch 40/100\n7654/7654 [==============================] - 0s 19us/sample - loss: 25.8835\nEpoch 41/100\n7654/7654 [==============================] - 0s 21us/sample - loss: 25.2590\nEpoch 42/100\n7654/7654 [==============================] - 0s 21us/sample - loss: 26.3302\nEpoch 43/100\n7654/7654 [==============================] - 0s 22us/sample - loss: 25.7376\nEpoch 44/100\n7654/7654 [==============================] - 0s 20us/sample - loss: 25.3288\nEpoch 45/100\n7654/7654 [==============================] - 0s 19us/sample - loss: 25.9348\nEpoch 46/100\n7654/7654 [==============================] - 0s 18us/sample - loss: 25.9708\nEpoch 47/100\n7654/7654 [==============================] - 0s 18us/sample - loss: 25.3805\nEpoch 48/100\n7654/7654 [==============================] - 0s 19us/sample - loss: 25.6722\nEpoch 49/100\n7654/7654 [==============================] - 0s 20us/sample - loss: 25.2018\nEpoch 50/100\n7654/7654 [==============================] - 0s 21us/sample - loss: 25.2190\nEpoch 51/100\n7654/7654 [==============================] - 0s 19us/sample - loss: 24.9944\nEpoch 52/100\n7654/7654 [==============================] - 0s 19us/sample - loss: 25.0449\nEpoch 53/100\n7654/7654 [==============================] - 0s 18us/sample - loss: 25.0193\nEpoch 54/100\n7654/7654 [==============================] - 0s 18us/sample - loss: 26.7346\nEpoch 55/100\n7654/7654 [==============================] - 0s 18us/sample - loss: 25.2793\nEpoch 56/100\n7654/7654 [==============================] - 0s 19us/sample - loss: 25.5055\nEpoch 57/100\n7654/7654 [==============================] - 0s 20us/sample - loss: 25.4257\nEpoch 58/100\n7654/7654 [==============================] - 0s 20us/sample - loss: 25.3328\nEpoch 59/100\n7654/7654 [==============================] - 0s 20us/sample - loss: 24.9263\nEpoch 60/100\n7654/7654 [==============================] - 0s 20us/sample - loss: 25.2353\nEpoch 61/100\n7654/7654 [==============================] - 0s 18us/sample - loss: 25.8601\nEpoch 62/100\n7654/7654 [==============================] - 0s 18us/sample - loss: 24.6714\nEpoch 63/100\n7654/7654 [==============================] - 0s 18us/sample - loss: 25.2865\nEpoch 64/100\n7654/7654 [==============================] - 0s 18us/sample - loss: 25.1439\nEpoch 65/100\n7654/7654 [==============================] - 0s 18us/sample - loss: 25.0764\nEpoch 66/100\n7654/7654 [==============================] - 0s 19us/sample - loss: 25.9324\nEpoch 67/100\n7654/7654 [==============================] - 0s 18us/sample - loss: 25.0994\nEpoch 68/100\n7654/7654 [==============================] - 0s 19us/sample - loss: 25.1080\nEpoch 69/100\n7654/7654 [==============================] - 0s 18us/sample - loss: 25.6062\nEpoch 70/100\n7654/7654 [==============================] - 0s 19us/sample - loss: 24.7654\nEpoch 71/100\n7654/7654 [==============================] - 0s 19us/sample - loss: 24.7225\nEpoch 72/100\n7654/7654 [==============================] - 0s 19us/sample - loss: 25.2708\nEpoch 73/100\n7654/7654 [==============================] - 0s 19us/sample - loss: 24.8870\nEpoch 74/100\n7654/7654 [==============================] - 0s 18us/sample - loss: 24.7857\nEpoch 75/100\n7654/7654 [==============================] - 0s 18us/sample - loss: 24.9137\nEpoch 76/100\n7654/7654 [==============================] - 0s 19us/sample - loss: 25.5457\nEpoch 77/100\n7654/7654 [==============================] - 0s 17us/sample - loss: 25.5336\nEpoch 78/100\n7654/7654 [==============================] - 0s 18us/sample - loss: 24.8559\nEpoch 79/100\n7654/7654 [==============================] - 0s 18us/sample - loss: 25.0410\nEpoch 80/100\n7654/7654 [==============================] - 0s 17us/sample - loss: 25.1571\nEpoch 81/100\n7654/7654 [==============================] - 0s 18us/sample - loss: 24.3906\nEpoch 82/100\n7654/7654 [==============================] - 0s 18us/sample - loss: 25.8426\nEpoch 83/100\n7654/7654 [==============================] - 0s 19us/sample - loss: 25.3419\nEpoch 84/100\n7654/7654 [==============================] - 0s 18us/sample - loss: 25.5687\nEpoch 85/100\n7654/7654 [==============================] - 0s 18us/sample - loss: 25.3417\nEpoch 86/100\n7654/7654 [==============================] - 0s 19us/sample - loss: 25.1514\nEpoch 87/100\n7654/7654 [==============================] - 0s 18us/sample - loss: 24.9400\nEpoch 88/100\n7654/7654 [==============================] - 0s 18us/sample - loss: 25.4784\nEpoch 89/100\n7654/7654 [==============================] - 0s 18us/sample - loss: 24.9325\nEpoch 90/100\n7654/7654 [==============================] - 0s 18us/sample - loss: 24.7216\nEpoch 91/100\n7654/7654 [==============================] - 0s 17us/sample - loss: 24.5224\nEpoch 92/100\n7654/7654 [==============================] - 0s 18us/sample - loss: 24.8352\nEpoch 93/100\n7654/7654 [==============================] - 0s 17us/sample - loss: 25.2099\nEpoch 94/100\n7654/7654 [==============================] - 0s 18us/sample - loss: 24.4513\nEpoch 95/100\n7654/7654 [==============================] - 0s 18us/sample - loss: 23.9846\nEpoch 96/100\n7654/7654 [==============================] - 0s 18us/sample - loss: 24.8535\nEpoch 97/100\n7654/7654 [==============================] - 0s 18us/sample - loss: 24.3118\nEpoch 98/100\n7654/7654 [==============================] - 0s 19us/sample - loss: 25.2333\nEpoch 99/100\n7654/7654 [==============================] - 0s 19us/sample - loss: 24.7109\nEpoch 100/100\n7654/7654 [==============================] - 0s 18us/sample - loss: 24.8982\n"
    },
    {
     "output_type": "execute_result",
     "data": {
      "text/plain": "<tensorflow.python.keras.callbacks.History at 0x2212cf41dc8>"
     },
     "metadata": {},
     "execution_count": 14
    }
   ],
   "source": [
    "nn.fit(X_train, y_train, epochs=100, batch_size = 32)"
   ]
  },
  {
   "cell_type": "markdown",
   "metadata": {},
   "source": [
    "## Predicting the results of the Test set"
   ]
  },
  {
   "cell_type": "code",
   "execution_count": 20,
   "metadata": {},
   "outputs": [
    {
     "output_type": "execute_result",
     "data": {
      "text/plain": "array([[455.39, 455.27],\n       [438.59, 436.31],\n       [435.14, 440.68],\n       ...,\n       [481.88, 479.53],\n       [437.04, 435.76],\n       [456.9 , 457.1 ]])"
     },
     "metadata": {},
     "execution_count": 20
    }
   ],
   "source": [
    "y_pred = nn.predict(X_test)\n",
    "np.set_printoptions(precision=2)\n",
    "np.concatenate((y_pred.reshape(-1, 1), y_test.reshape(-1, 1)), axis=1)"
   ]
  }
 ],
 "metadata": {
  "language_info": {
   "codemirror_mode": {
    "name": "ipython",
    "version": 3
   },
   "file_extension": ".py",
   "mimetype": "text/x-python",
   "name": "python",
   "nbconvert_exporter": "python",
   "pygments_lexer": "ipython3",
   "version": "3.7.7-final"
  },
  "orig_nbformat": 2,
  "kernelspec": {
   "name": "python3",
   "display_name": "Python 3"
  }
 },
 "nbformat": 4,
 "nbformat_minor": 2
}